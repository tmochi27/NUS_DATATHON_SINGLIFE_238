{
  "cells": [
    {
      "cell_type": "markdown",
      "metadata": {
        "id": "OdAykFILFpFY"
      },
      "source": [
        "# 0 Installing required packages"
      ]
    },
    {
      "cell_type": "code",
      "execution_count": null,
      "metadata": {
        "colab": {
          "base_uri": "https://localhost:8080/"
        },
        "id": "ckiwv4sHFc5y",
        "outputId": "241f8cc6-2659-4fcf-8029-91e05f80d640"
      },
      "outputs": [
        {
          "output_type": "stream",
          "name": "stdout",
          "text": [
            "Requirement already satisfied: pandas in /usr/local/lib/python3.10/dist-packages (1.5.3)\n",
            "Requirement already satisfied: python-dateutil>=2.8.1 in /usr/local/lib/python3.10/dist-packages (from pandas) (2.8.2)\n",
            "Requirement already satisfied: pytz>=2020.1 in /usr/local/lib/python3.10/dist-packages (from pandas) (2023.3.post1)\n",
            "Requirement already satisfied: numpy>=1.21.0 in /usr/local/lib/python3.10/dist-packages (from pandas) (1.23.5)\n",
            "Requirement already satisfied: six>=1.5 in /usr/local/lib/python3.10/dist-packages (from python-dateutil>=2.8.1->pandas) (1.16.0)\n",
            "Requirement already satisfied: pyarrow in /usr/local/lib/python3.10/dist-packages (10.0.1)\n",
            "Requirement already satisfied: numpy>=1.16.6 in /usr/local/lib/python3.10/dist-packages (from pyarrow) (1.23.5)\n",
            "Requirement already satisfied: numpy in /usr/local/lib/python3.10/dist-packages (1.23.5)\n",
            "Requirement already satisfied: scikit-learn in /usr/local/lib/python3.10/dist-packages (1.2.2)\n",
            "Requirement already satisfied: numpy>=1.17.3 in /usr/local/lib/python3.10/dist-packages (from scikit-learn) (1.23.5)\n",
            "Requirement already satisfied: scipy>=1.3.2 in /usr/local/lib/python3.10/dist-packages (from scikit-learn) (1.11.4)\n",
            "Requirement already satisfied: joblib>=1.1.1 in /usr/local/lib/python3.10/dist-packages (from scikit-learn) (1.3.2)\n",
            "Requirement already satisfied: threadpoolctl>=2.0.0 in /usr/local/lib/python3.10/dist-packages (from scikit-learn) (3.2.0)\n",
            "Requirement already satisfied: imbalanced-learn in /usr/local/lib/python3.10/dist-packages (0.10.1)\n",
            "Requirement already satisfied: numpy>=1.17.3 in /usr/local/lib/python3.10/dist-packages (from imbalanced-learn) (1.23.5)\n",
            "Requirement already satisfied: scipy>=1.3.2 in /usr/local/lib/python3.10/dist-packages (from imbalanced-learn) (1.11.4)\n",
            "Requirement already satisfied: scikit-learn>=1.0.2 in /usr/local/lib/python3.10/dist-packages (from imbalanced-learn) (1.2.2)\n",
            "Requirement already satisfied: joblib>=1.1.1 in /usr/local/lib/python3.10/dist-packages (from imbalanced-learn) (1.3.2)\n",
            "Requirement already satisfied: threadpoolctl>=2.0.0 in /usr/local/lib/python3.10/dist-packages (from imbalanced-learn) (3.2.0)\n",
            "Requirement already satisfied: matplotlib in /usr/local/lib/python3.10/dist-packages (3.7.1)\n",
            "Requirement already satisfied: contourpy>=1.0.1 in /usr/local/lib/python3.10/dist-packages (from matplotlib) (1.2.0)\n",
            "Requirement already satisfied: cycler>=0.10 in /usr/local/lib/python3.10/dist-packages (from matplotlib) (0.12.1)\n",
            "Requirement already satisfied: fonttools>=4.22.0 in /usr/local/lib/python3.10/dist-packages (from matplotlib) (4.47.2)\n",
            "Requirement already satisfied: kiwisolver>=1.0.1 in /usr/local/lib/python3.10/dist-packages (from matplotlib) (1.4.5)\n",
            "Requirement already satisfied: numpy>=1.20 in /usr/local/lib/python3.10/dist-packages (from matplotlib) (1.23.5)\n",
            "Requirement already satisfied: packaging>=20.0 in /usr/local/lib/python3.10/dist-packages (from matplotlib) (23.2)\n",
            "Requirement already satisfied: pillow>=6.2.0 in /usr/local/lib/python3.10/dist-packages (from matplotlib) (9.4.0)\n",
            "Requirement already satisfied: pyparsing>=2.3.1 in /usr/local/lib/python3.10/dist-packages (from matplotlib) (3.1.1)\n",
            "Requirement already satisfied: python-dateutil>=2.7 in /usr/local/lib/python3.10/dist-packages (from matplotlib) (2.8.2)\n",
            "Requirement already satisfied: six>=1.5 in /usr/local/lib/python3.10/dist-packages (from python-dateutil>=2.7->matplotlib) (1.16.0)\n",
            "Collecting scikeras\n",
            "  Downloading scikeras-0.12.0-py3-none-any.whl (27 kB)\n",
            "Requirement already satisfied: packaging>=0.21 in /usr/local/lib/python3.10/dist-packages (from scikeras) (23.2)\n",
            "Requirement already satisfied: scikit-learn>=1.0.0 in /usr/local/lib/python3.10/dist-packages (from scikeras) (1.2.2)\n",
            "Requirement already satisfied: numpy>=1.17.3 in /usr/local/lib/python3.10/dist-packages (from scikit-learn>=1.0.0->scikeras) (1.23.5)\n",
            "Requirement already satisfied: scipy>=1.3.2 in /usr/local/lib/python3.10/dist-packages (from scikit-learn>=1.0.0->scikeras) (1.11.4)\n",
            "Requirement already satisfied: joblib>=1.1.1 in /usr/local/lib/python3.10/dist-packages (from scikit-learn>=1.0.0->scikeras) (1.3.2)\n",
            "Requirement already satisfied: threadpoolctl>=2.0.0 in /usr/local/lib/python3.10/dist-packages (from scikit-learn>=1.0.0->scikeras) (3.2.0)\n",
            "Installing collected packages: scikeras\n",
            "Successfully installed scikeras-0.12.0\n"
          ]
        }
      ],
      "source": [
        "%pip install pandas\n",
        "%pip install pyarrow\n",
        "%pip install numpy\n",
        "%pip install scikit-learn\n",
        "%pip install imbalanced-learn\n",
        "%pip install matplotlib\n",
        "%pip install scikeras"
      ]
    },
    {
      "cell_type": "code",
      "source": [
        "import numpy as np\n",
        "import pandas as pd\n",
        "import tensorflow as tf\n",
        "from sklearn.model_selection import train_test_split, cross_val_score, StratifiedKFold\n",
        "from sklearn.preprocessing import StandardScaler\n",
        "from sklearn.metrics import classification_report, accuracy_score, confusion_matrix\n",
        "from sklearn.tree import DecisionTreeClassifier\n",
        "from sklearn.neighbors import KNeighborsClassifier\n",
        "from sklearn.ensemble import VotingClassifier\n",
        "from scikeras.wrappers import KerasClassifier\n",
        "from tensorflow.keras.models import Sequential\n",
        "from tensorflow.keras.layers import Dense, Dropout\n",
        "from tensorflow.keras.callbacks import EarlyStopping\n",
        "import matplotlib.pyplot as plt"
      ],
      "metadata": {
        "id": "PN6lb_jbdFj-"
      },
      "execution_count": null,
      "outputs": []
    },
    {
      "cell_type": "markdown",
      "metadata": {
        "id": "--6K014ymIrA"
      },
      "source": [
        "#  1 Preparing data\n",
        "\n",
        "Before a model can even be trained; it requires data. But there are steps needed to ensure that the data is cleaned and ready for a model - if the data is wrongly formatted or missing; the model training process will not work. Thus, the following steps are advised."
      ]
    },
    {
      "cell_type": "markdown",
      "metadata": {
        "id": "qlx0YVSsT2sM"
      },
      "source": [
        "## 1.1 Reading Data"
      ]
    },
    {
      "cell_type": "code",
      "execution_count": null,
      "metadata": {
        "id": "hGTc0RawVRat"
      },
      "outputs": [],
      "source": [
        "df = pd.read_parquet('../data/catB_train.parquet')"
      ]
    },
    {
      "cell_type": "markdown",
      "metadata": {
        "id": "xkZj0CVUT46j"
      },
      "source": [
        "## 1.2 Processing Data\n",
        "In our effort on the data preprocessing phase, we addressed various aspects to ensure the dataset's effectiveness and reliability. In order to provide a stable foundation for subsequent analyses, we chose to handle the null values, tailoring our approach to each variable. Namely, for the target variable column, we replaced the missing values with 0, while for other feature values, we opted to removed them to guarantee data consistency. Leveraging our combined domain knowledge, we calculated client ages based on their dates of birth, introducing the 'AgeGroup' feature to foster a more effective demographic analysis. Our strategic approach to feature selection involved collaboratively dropping columns with high missing percentages, enhancing the model's robustness.\n",
        "\n",
        "Overall, we successfully cleaned the data, improved accuracy through imputation and zero-dropping, and introduced new features, laying the groundwork for a comprehensive exploration into critical touchpoints influencing customer drop-off."
      ]
    },
    {
      "cell_type": "code",
      "execution_count": null,
      "metadata": {
        "id": "tueFiwE3UHeh",
        "colab": {
          "base_uri": "https://localhost:8080/"
        },
        "outputId": "8a41cb8b-efbd-48d2-d948-c5b71015e01b"
      },
      "outputs": [
        {
          "output_type": "stream",
          "name": "stderr",
          "text": [
            "<ipython-input-32-b5b57e08b100>:7: SettingWithCopyWarning: \n",
            "A value is trying to be set on a copy of a slice from a DataFrame.\n",
            "Try using .loc[row_indexer,col_indexer] = value instead\n",
            "\n",
            "See the caveats in the documentation: https://pandas.pydata.org/pandas-docs/stable/user_guide/indexing.html#returning-a-view-versus-a-copy\n",
            "  df['cltdob_fix'] = pd.to_datetime(df['cltdob_fix'])\n",
            "<ipython-input-32-b5b57e08b100>:9: SettingWithCopyWarning: \n",
            "A value is trying to be set on a copy of a slice from a DataFrame.\n",
            "Try using .loc[row_indexer,col_indexer] = value instead\n",
            "\n",
            "See the caveats in the documentation: https://pandas.pydata.org/pandas-docs/stable/user_guide/indexing.html#returning-a-view-versus-a-copy\n",
            "  df['birth_year'] = df['cltdob_fix'].dt.year\n",
            "<ipython-input-32-b5b57e08b100>:11: SettingWithCopyWarning: \n",
            "A value is trying to be set on a copy of a slice from a DataFrame.\n",
            "Try using .loc[row_indexer,col_indexer] = value instead\n",
            "\n",
            "See the caveats in the documentation: https://pandas.pydata.org/pandas-docs/stable/user_guide/indexing.html#returning-a-view-versus-a-copy\n",
            "  df['age_in_2024'] = 2024 - df['birth_year']\n",
            "<ipython-input-32-b5b57e08b100>:16: SettingWithCopyWarning: \n",
            "A value is trying to be set on a copy of a slice from a DataFrame.\n",
            "Try using .loc[row_indexer,col_indexer] = value instead\n",
            "\n",
            "See the caveats in the documentation: https://pandas.pydata.org/pandas-docs/stable/user_guide/indexing.html#returning-a-view-versus-a-copy\n",
            "  df['AgeGroup'] = pd.cut(df['age_in_2024'], bins=bins, labels=labels, right=False)\n",
            "WARNING:tensorflow:Detecting that an object or model or tf.train.Checkpoint is being deleted with unrestored values. See the following logs for the specific values in question. To silence these warnings, use `status.expect_partial()`. See https://www.tensorflow.org/api_docs/python/tf/train/Checkpoint#restorefor details about the status object returned by the restore function.\n",
            "WARNING:tensorflow:Value in checkpoint could not be found in the restored object: (root).keras_api.metrics.0.total\n",
            "WARNING:tensorflow:Value in checkpoint could not be found in the restored object: (root).keras_api.metrics.0.count\n",
            "WARNING:tensorflow:Value in checkpoint could not be found in the restored object: (root).keras_api.metrics.1.total\n",
            "WARNING:tensorflow:Value in checkpoint could not be found in the restored object: (root).keras_api.metrics.1.count\n",
            "WARNING:tensorflow:Detecting that an object or model or tf.train.Checkpoint is being deleted with unrestored values. See the following logs for the specific values in question. To silence these warnings, use `status.expect_partial()`. See https://www.tensorflow.org/api_docs/python/tf/train/Checkpoint#restorefor details about the status object returned by the restore function.\n",
            "WARNING:tensorflow:Value in checkpoint could not be found in the restored object: (root).keras_api.metrics.0.total\n",
            "WARNING:tensorflow:Value in checkpoint could not be found in the restored object: (root).keras_api.metrics.0.count\n",
            "WARNING:tensorflow:Value in checkpoint could not be found in the restored object: (root).keras_api.metrics.1.total\n",
            "WARNING:tensorflow:Value in checkpoint could not be found in the restored object: (root).keras_api.metrics.1.count\n",
            "WARNING:tensorflow:Detecting that an object or model or tf.train.Checkpoint is being deleted with unrestored values. See the following logs for the specific values in question. To silence these warnings, use `status.expect_partial()`. See https://www.tensorflow.org/api_docs/python/tf/train/Checkpoint#restorefor details about the status object returned by the restore function.\n",
            "WARNING:tensorflow:Value in checkpoint could not be found in the restored object: (root).keras_api.metrics.0.total\n",
            "WARNING:tensorflow:Value in checkpoint could not be found in the restored object: (root).keras_api.metrics.0.count\n",
            "WARNING:tensorflow:Value in checkpoint could not be found in the restored object: (root).keras_api.metrics.1.total\n",
            "WARNING:tensorflow:Value in checkpoint could not be found in the restored object: (root).keras_api.metrics.1.count\n",
            "WARNING:tensorflow:Detecting that an object or model or tf.train.Checkpoint is being deleted with unrestored values. See the following logs for the specific values in question. To silence these warnings, use `status.expect_partial()`. See https://www.tensorflow.org/api_docs/python/tf/train/Checkpoint#restorefor details about the status object returned by the restore function.\n",
            "WARNING:tensorflow:Value in checkpoint could not be found in the restored object: (root).keras_api.metrics.0.total\n",
            "WARNING:tensorflow:Value in checkpoint could not be found in the restored object: (root).keras_api.metrics.0.count\n",
            "WARNING:tensorflow:Value in checkpoint could not be found in the restored object: (root).keras_api.metrics.1.total\n",
            "WARNING:tensorflow:Value in checkpoint could not be found in the restored object: (root).keras_api.metrics.1.count\n",
            "WARNING:tensorflow:Detecting that an object or model or tf.train.Checkpoint is being deleted with unrestored values. See the following logs for the specific values in question. To silence these warnings, use `status.expect_partial()`. See https://www.tensorflow.org/api_docs/python/tf/train/Checkpoint#restorefor details about the status object returned by the restore function.\n",
            "WARNING:tensorflow:Value in checkpoint could not be found in the restored object: (root).keras_api.metrics.0.total\n",
            "WARNING:tensorflow:Value in checkpoint could not be found in the restored object: (root).keras_api.metrics.0.count\n",
            "WARNING:tensorflow:Value in checkpoint could not be found in the restored object: (root).keras_api.metrics.1.total\n",
            "WARNING:tensorflow:Value in checkpoint could not be found in the restored object: (root).keras_api.metrics.1.count\n",
            "WARNING:tensorflow:Detecting that an object or model or tf.train.Checkpoint is being deleted with unrestored values. See the following logs for the specific values in question. To silence these warnings, use `status.expect_partial()`. See https://www.tensorflow.org/api_docs/python/tf/train/Checkpoint#restorefor details about the status object returned by the restore function.\n",
            "WARNING:tensorflow:Value in checkpoint could not be found in the restored object: (root).keras_api.metrics.0.total\n",
            "WARNING:tensorflow:Value in checkpoint could not be found in the restored object: (root).keras_api.metrics.0.count\n",
            "WARNING:tensorflow:Value in checkpoint could not be found in the restored object: (root).keras_api.metrics.1.total\n",
            "WARNING:tensorflow:Value in checkpoint could not be found in the restored object: (root).keras_api.metrics.1.count\n",
            "WARNING:tensorflow:Detecting that an object or model or tf.train.Checkpoint is being deleted with unrestored values. See the following logs for the specific values in question. To silence these warnings, use `status.expect_partial()`. See https://www.tensorflow.org/api_docs/python/tf/train/Checkpoint#restorefor details about the status object returned by the restore function.\n",
            "WARNING:tensorflow:Value in checkpoint could not be found in the restored object: (root).keras_api.metrics.0.total\n",
            "WARNING:tensorflow:Value in checkpoint could not be found in the restored object: (root).keras_api.metrics.0.count\n",
            "WARNING:tensorflow:Value in checkpoint could not be found in the restored object: (root).keras_api.metrics.1.total\n",
            "WARNING:tensorflow:Value in checkpoint could not be found in the restored object: (root).keras_api.metrics.1.count\n",
            "WARNING:tensorflow:Detecting that an object or model or tf.train.Checkpoint is being deleted with unrestored values. See the following logs for the specific values in question. To silence these warnings, use `status.expect_partial()`. See https://www.tensorflow.org/api_docs/python/tf/train/Checkpoint#restorefor details about the status object returned by the restore function.\n",
            "WARNING:tensorflow:Value in checkpoint could not be found in the restored object: (root).keras_api.metrics.0.total\n",
            "WARNING:tensorflow:Value in checkpoint could not be found in the restored object: (root).keras_api.metrics.0.count\n",
            "WARNING:tensorflow:Value in checkpoint could not be found in the restored object: (root).keras_api.metrics.1.total\n",
            "WARNING:tensorflow:Value in checkpoint could not be found in the restored object: (root).keras_api.metrics.1.count\n",
            "WARNING:tensorflow:Detecting that an object or model or tf.train.Checkpoint is being deleted with unrestored values. See the following logs for the specific values in question. To silence these warnings, use `status.expect_partial()`. See https://www.tensorflow.org/api_docs/python/tf/train/Checkpoint#restorefor details about the status object returned by the restore function.\n",
            "WARNING:tensorflow:Value in checkpoint could not be found in the restored object: (root).keras_api.metrics.0.total\n",
            "WARNING:tensorflow:Value in checkpoint could not be found in the restored object: (root).keras_api.metrics.0.count\n",
            "WARNING:tensorflow:Value in checkpoint could not be found in the restored object: (root).keras_api.metrics.1.total\n",
            "WARNING:tensorflow:Value in checkpoint could not be found in the restored object: (root).keras_api.metrics.1.count\n",
            "WARNING:tensorflow:Detecting that an object or model or tf.train.Checkpoint is being deleted with unrestored values. See the following logs for the specific values in question. To silence these warnings, use `status.expect_partial()`. See https://www.tensorflow.org/api_docs/python/tf/train/Checkpoint#restorefor details about the status object returned by the restore function.\n",
            "WARNING:tensorflow:Value in checkpoint could not be found in the restored object: (root).keras_api.metrics.0.total\n",
            "WARNING:tensorflow:Value in checkpoint could not be found in the restored object: (root).keras_api.metrics.0.count\n",
            "WARNING:tensorflow:Value in checkpoint could not be found in the restored object: (root).keras_api.metrics.1.total\n",
            "WARNING:tensorflow:Value in checkpoint could not be found in the restored object: (root).keras_api.metrics.1.count\n"
          ]
        }
      ],
      "source": [
        "# Convert target col to 0 or 1\n",
        "df[\"f_purchase_lh\"] = df[\"f_purchase_lh\"].fillna(0)\n",
        "\n",
        "# 'AgeGroup' column\n",
        "df.replace('None', np.nan, inplace=True)\n",
        "df = df.dropna(subset=['cltdob_fix'])\n",
        "df['cltdob_fix'] = pd.to_datetime(df['cltdob_fix'])\n",
        "# Extract the year from 'date_of_birth'\n",
        "df['birth_year'] = df['cltdob_fix'].dt.year\n",
        "# Calculate the difference between 2024 and the birth year\n",
        "df['age_in_2024'] = 2024 - df['birth_year']\n",
        "# Define the bins and labels for the age groups\n",
        "bins = [0, 25, 50, float('inf')]\n",
        "labels = [0, 1, 2]\n",
        "# Create a new column 'AgeGroup' based on the age groups\n",
        "df['AgeGroup'] = pd.cut(df['age_in_2024'], bins=bins, labels=labels, right=False)\n",
        "df['AgeGroup']\n",
        "# Drop 'birth_year', 'age_in_2024' columns\n",
        "df = df.drop(columns = [\"birth_year\", \"age_in_2024\", \"cltdob_fix\"])\n",
        "\n",
        "# Calculate the total number of missing values in each column\n",
        "missing_values = df.isna().sum()\n",
        "\n",
        "# Calculate the percentage of missing values for each column\n",
        "missing_percentage = (missing_values / len(df)) * 100\n",
        "\n",
        "# Create a dataframe to display the results\n",
        "missing_info = pd.DataFrame({\n",
        "    'Column': df.columns,\n",
        "    'Missing Values': missing_values,\n",
        "    'Missing Percentage': missing_percentage\n",
        "})\n",
        "\n",
        "# Set a threshold for the percentage of missing values\n",
        "threshold = 50\n",
        "\n",
        "# Get column names with missing percentages above the threshold\n",
        "columns_to_drop = missing_info[missing_info['Missing Percentage'] > threshold]['Column']\n",
        "\n",
        "\n",
        "# Drop columns with high missing values\n",
        "df = df.drop(columns=columns_to_drop)\n",
        "\n",
        "# Identifiy numeric columns and fill null values with the median value\n",
        "numeric_cols = df.select_dtypes(include=[\"int64\", \"float64\"]).columns\n",
        "df[numeric_cols] = df[numeric_cols].apply(lambda x: x.fillna(x.median()))\n",
        "\n",
        "\n",
        "# Drop non-numeric cols\n",
        "non_numeric_cols = df.select_dtypes(include=[\"string\", \"object\"]).columns\n",
        "df = df.drop(columns=non_numeric_cols)\n",
        "\n",
        "# Drop other unnecessary columns\n",
        "df = df.drop(columns = ['is_valid_dm', 'is_valid_email'\n",
        "                        ])\n",
        "\n",
        "y = df[\"f_purchase_lh\"]\n",
        "X = df.drop(columns=['f_purchase_lh'])\n",
        "\n",
        "# Split the data into training and testing sets\n",
        "X_train, X_test, y_train, y_test = train_test_split(X, y, test_size=0.2, random_state=42)"
      ]
    },
    {
      "cell_type": "code",
      "execution_count": null,
      "metadata": {
        "id": "vVwXZj_jTw40"
      },
      "outputs": [],
      "source": [
        "features = list(df)"
      ]
    },
    {
      "cell_type": "markdown",
      "metadata": {
        "id": "RKioviEiUjCv"
      },
      "source": [
        "# 2. Modelling and Evaluation\n",
        "\n",
        "After completing the previous stages of the workflow discussed, we are finally ready totrain models and evaluate their performance. In this section, we explore some metrics to evaluate performance, to help us decide if we have a satisfactory model or not. This is usually evaluated against a hold-out set of data."
      ]
    },
    {
      "cell_type": "markdown",
      "source": [
        "## 2.1 Decision Trees"
      ],
      "metadata": {
        "id": "OKg4mY2HrQgP"
      }
    },
    {
      "cell_type": "code",
      "execution_count": null,
      "metadata": {
        "id": "QjJF8iVfTNLb",
        "colab": {
          "base_uri": "https://localhost:8080/"
        },
        "outputId": "dc770b0b-9731-43d7-a07e-83242b6c5d49"
      },
      "outputs": [
        {
          "output_type": "stream",
          "name": "stdout",
          "text": [
            "Accuracy: 0.9240400667779632\n",
            "\n",
            "Confusion Matrix:\n",
            " [[3306  143]\n",
            " [ 130   15]]\n",
            "\n",
            "Classification Report:\n",
            "               precision    recall  f1-score   support\n",
            "\n",
            "         0.0       0.96      0.96      0.96      3449\n",
            "         1.0       0.09      0.10      0.10       145\n",
            "\n",
            "    accuracy                           0.92      3594\n",
            "   macro avg       0.53      0.53      0.53      3594\n",
            "weighted avg       0.93      0.92      0.93      3594\n",
            "\n",
            "Average Accuracy: 0.9284922053576828\n"
          ]
        }
      ],
      "source": [
        "def decision_tree(X_train, X_test, y_train, y_test):\n",
        "    # Create a decision tree classifier\n",
        "    decisiontree = DecisionTreeClassifier(random_state=42)\n",
        "\n",
        "    # Train the model on the training data\n",
        "    decisiontree.fit(X_train, y_train)\n",
        "\n",
        "    # Make predictions on the testing data\n",
        "    y_pred = decisiontree.predict(X_test)\n",
        "    dt_pred = y_pred\n",
        "\n",
        "    return decisiontree, y_pred\n",
        "\n",
        "base_model1, base_model1_preds = decision_tree(X_train, X_test, y_train, y_test)\n",
        "\n",
        "# Evaluate the model\n",
        "print(\"Accuracy:\", accuracy_score(y_test, base_model1_preds))\n",
        "print(\"\\nConfusion Matrix:\\n\", confusion_matrix(y_test, base_model1_preds))\n",
        "print(\"\\nClassification Report:\\n\", classification_report(y_test, base_model1_preds))\n",
        "\n",
        "# Perform 5-fold cross-validation\n",
        "scores1 = cross_val_score(base_model1, X_train, y_train, cv=5, scoring='accuracy').mean()\n",
        "\n",
        "# Print average accuracy across all folds\n",
        "print(\"Average Accuracy:\", scores1)\n"
      ]
    },
    {
      "cell_type": "markdown",
      "metadata": {
        "id": "5E4JbtFN9KeZ"
      },
      "source": [
        "## 2.2 K-Nearest Neighbours\n",
        "\n",
        "\n"
      ]
    },
    {
      "cell_type": "code",
      "execution_count": null,
      "metadata": {
        "colab": {
          "base_uri": "https://localhost:8080/"
        },
        "id": "DpY_NflRrMWy",
        "outputId": "ca701cd8-5aae-47e8-d757-35d5de8eb1c5"
      },
      "outputs": [
        {
          "output_type": "stream",
          "name": "stdout",
          "text": [
            "Accuracy: 0.9582637729549248\n",
            "\n",
            "Confusion Matrix:\n",
            " [[3441    8]\n",
            " [ 142    3]]\n",
            "\n",
            "Classification Report:\n",
            "               precision    recall  f1-score   support\n",
            "\n",
            "         0.0       0.96      1.00      0.98      3449\n",
            "         1.0       0.27      0.02      0.04       145\n",
            "\n",
            "    accuracy                           0.96      3594\n",
            "   macro avg       0.62      0.51      0.51      3594\n",
            "weighted avg       0.93      0.96      0.94      3594\n",
            "\n",
            "Average Accuracy: 0.9588201729455162\n"
          ]
        }
      ],
      "source": [
        "def knn(X_train, X_test, y_train, y_test):\n",
        "\n",
        "    # Standardize the features (important for KNN)\n",
        "    scaler = StandardScaler()\n",
        "    X_train = scaler.fit_transform(X_train)\n",
        "    X_test = scaler.transform(X_test)\n",
        "\n",
        "    # Create KNN model and fit it to the training data\n",
        "    knn = KNeighborsClassifier(n_neighbors=5)\n",
        "    knn.fit(X_train, y_train)\n",
        "\n",
        "    # Make predictions on the test set\n",
        "    y_pred = knn.predict(X_test)\n",
        "\n",
        "    return knn, y_pred\n",
        "\n",
        "base_model2, base_model2_preds = knn(X_train, X_test, y_train, y_test)\n",
        "\n",
        "# Evaluate the model\n",
        "print(\"Accuracy:\", accuracy_score(y_test, base_model2_preds))\n",
        "print(\"\\nConfusion Matrix:\\n\", confusion_matrix(y_test, base_model2_preds))\n",
        "print(\"\\nClassification Report:\\n\", classification_report(y_test, base_model2_preds))\n",
        "\n",
        "# Perform 5-fold cross-validation\n",
        "scores2 = cross_val_score(base_model2, X_train, y_train, cv=5, scoring='accuracy').mean()\n",
        "\n",
        "# Print average accuracy across all folds\n",
        "print(\"Average Accuracy:\", scores2)"
      ]
    },
    {
      "cell_type": "markdown",
      "metadata": {
        "id": "yXAyLmJB99F3"
      },
      "source": [
        "## 2.3 Base Model 3: Neural Networks\n",
        "The neural network model exhibits exceptional performance, achieving an accuracy of 99.72% and precision scores of 1.00 for both classes, indicating a good fit to the training data. However, the slightly lower recall for class 1 at 93% suggests the possibility of missed positive predictions. The justified model architecture and hyperparameters have resulted in a balance that effectively captures the intricacies of the data. While the current model demonstrates a high level of suitability for the provided dataset, continuous monitoring is essential to address any evolving challenges, ensuring sustained high performance. This entails revisiting the model's design choices, particularly in optimizing recall for class 1, and evaluating the ongoing suitability of the training data, while ensuring the important balance between performance and the risk of overfitting."
      ]
    },
    {
      "cell_type": "code",
      "execution_count": null,
      "metadata": {
        "id": "S1ZfViyjsV8s",
        "outputId": "a6870aae-6ace-45ba-ae4c-3f018d3b4f09",
        "colab": {
          "base_uri": "https://localhost:8080/"
        }
      },
      "outputs": [
        {
          "output_type": "stream",
          "name": "stdout",
          "text": [
            "Epoch 1/10\n",
            "39/39 [==============================] - 2s 12ms/step - loss: 0.5596 - accuracy: 0.7558 - val_loss: 0.3134 - val_accuracy: 0.9395\n",
            "Epoch 2/10\n",
            "39/39 [==============================] - 0s 4ms/step - loss: 0.3182 - accuracy: 0.9096 - val_loss: 0.2115 - val_accuracy: 0.9541\n",
            "Epoch 3/10\n",
            "39/39 [==============================] - 0s 3ms/step - loss: 0.2454 - accuracy: 0.9358 - val_loss: 0.1833 - val_accuracy: 0.9555\n",
            "Epoch 4/10\n",
            "39/39 [==============================] - 0s 3ms/step - loss: 0.2154 - accuracy: 0.9467 - val_loss: 0.1738 - val_accuracy: 0.9555\n",
            "Epoch 5/10\n",
            "39/39 [==============================] - 0s 4ms/step - loss: 0.2008 - accuracy: 0.9505 - val_loss: 0.1703 - val_accuracy: 0.9555\n",
            "Epoch 6/10\n",
            "39/39 [==============================] - 0s 3ms/step - loss: 0.1970 - accuracy: 0.9512 - val_loss: 0.1672 - val_accuracy: 0.9555\n",
            "Epoch 7/10\n",
            "39/39 [==============================] - 0s 3ms/step - loss: 0.1820 - accuracy: 0.9535 - val_loss: 0.1656 - val_accuracy: 0.9555\n",
            "Epoch 8/10\n",
            "39/39 [==============================] - 0s 3ms/step - loss: 0.1791 - accuracy: 0.9563 - val_loss: 0.1661 - val_accuracy: 0.9555\n",
            "Epoch 9/10\n",
            "39/39 [==============================] - 0s 3ms/step - loss: 0.1778 - accuracy: 0.9563 - val_loss: 0.1644 - val_accuracy: 0.9548\n",
            "Epoch 10/10\n",
            "39/39 [==============================] - 0s 3ms/step - loss: 0.1785 - accuracy: 0.9571 - val_loss: 0.1626 - val_accuracy: 0.9555\n",
            "113/113 [==============================] - 0s 1ms/step\n",
            "Accuracy: 0.9596549805230941\n",
            "\n",
            "Confusion Matrix:\n",
            " [[3449    0]\n",
            " [ 145    0]]\n",
            "\n",
            "Classification Report:\n",
            "               precision    recall  f1-score   support\n",
            "\n",
            "         0.0       0.96      1.00      0.98      3449\n",
            "         1.0       0.00      0.00      0.00       145\n",
            "\n",
            "    accuracy                           0.96      3594\n",
            "   macro avg       0.48      0.50      0.49      3594\n",
            "weighted avg       0.92      0.96      0.94      3594\n",
            "\n"
          ]
        },
        {
          "output_type": "stream",
          "name": "stderr",
          "text": [
            "/usr/local/lib/python3.10/dist-packages/sklearn/metrics/_classification.py:1344: UndefinedMetricWarning: Precision and F-score are ill-defined and being set to 0.0 in labels with no predicted samples. Use `zero_division` parameter to control this behavior.\n",
            "  _warn_prf(average, modifier, msg_start, len(result))\n",
            "/usr/local/lib/python3.10/dist-packages/sklearn/metrics/_classification.py:1344: UndefinedMetricWarning: Precision and F-score are ill-defined and being set to 0.0 in labels with no predicted samples. Use `zero_division` parameter to control this behavior.\n",
            "  _warn_prf(average, modifier, msg_start, len(result))\n",
            "/usr/local/lib/python3.10/dist-packages/sklearn/metrics/_classification.py:1344: UndefinedMetricWarning: Precision and F-score are ill-defined and being set to 0.0 in labels with no predicted samples. Use `zero_division` parameter to control this behavior.\n",
            "  _warn_prf(average, modifier, msg_start, len(result))\n",
            "/usr/local/lib/python3.10/dist-packages/scikeras/wrappers.py:915: UserWarning: ``build_fn`` will be renamed to ``model`` in a future release, at which point use of ``build_fn`` will raise an Error instead.\n",
            "  X, y = self._initialize(X, y)\n"
          ]
        },
        {
          "output_type": "stream",
          "name": "stdout",
          "text": [
            "360/360 [==============================] - 2s 4ms/step - loss: 0.3484 - accuracy: 0.9538\n",
            "90/90 [==============================] - 1s 6ms/step\n"
          ]
        },
        {
          "output_type": "stream",
          "name": "stderr",
          "text": [
            "/usr/local/lib/python3.10/dist-packages/scikeras/wrappers.py:915: UserWarning: ``build_fn`` will be renamed to ``model`` in a future release, at which point use of ``build_fn`` will raise an Error instead.\n",
            "  X, y = self._initialize(X, y)\n"
          ]
        },
        {
          "output_type": "stream",
          "name": "stdout",
          "text": [
            "360/360 [==============================] - 2s 3ms/step - loss: 0.3091 - accuracy: 0.9537\n",
            "90/90 [==============================] - 0s 2ms/step\n"
          ]
        },
        {
          "output_type": "stream",
          "name": "stderr",
          "text": [
            "/usr/local/lib/python3.10/dist-packages/scikeras/wrappers.py:915: UserWarning: ``build_fn`` will be renamed to ``model`` in a future release, at which point use of ``build_fn`` will raise an Error instead.\n",
            "  X, y = self._initialize(X, y)\n"
          ]
        },
        {
          "output_type": "stream",
          "name": "stdout",
          "text": [
            "360/360 [==============================] - 2s 3ms/step - loss: 0.3267 - accuracy: 0.9547\n",
            "90/90 [==============================] - 0s 1ms/step\n"
          ]
        },
        {
          "output_type": "stream",
          "name": "stderr",
          "text": [
            "WARNING:tensorflow:Detecting that an object or model or tf.train.Checkpoint is being deleted with unrestored values. See the following logs for the specific values in question. To silence these warnings, use `status.expect_partial()`. See https://www.tensorflow.org/api_docs/python/tf/train/Checkpoint#restorefor details about the status object returned by the restore function.\n",
            "WARNING:tensorflow:Value in checkpoint could not be found in the restored object: (root).keras_api.metrics.0.total\n",
            "WARNING:tensorflow:Value in checkpoint could not be found in the restored object: (root).keras_api.metrics.0.count\n",
            "WARNING:tensorflow:Value in checkpoint could not be found in the restored object: (root).keras_api.metrics.1.total\n",
            "WARNING:tensorflow:Value in checkpoint could not be found in the restored object: (root).keras_api.metrics.1.count\n",
            "WARNING:tensorflow:Detecting that an object or model or tf.train.Checkpoint is being deleted with unrestored values. See the following logs for the specific values in question. To silence these warnings, use `status.expect_partial()`. See https://www.tensorflow.org/api_docs/python/tf/train/Checkpoint#restorefor details about the status object returned by the restore function.\n",
            "WARNING:tensorflow:Value in checkpoint could not be found in the restored object: (root).keras_api.metrics.0.total\n",
            "WARNING:tensorflow:Value in checkpoint could not be found in the restored object: (root).keras_api.metrics.0.count\n",
            "WARNING:tensorflow:Value in checkpoint could not be found in the restored object: (root).keras_api.metrics.1.total\n",
            "WARNING:tensorflow:Value in checkpoint could not be found in the restored object: (root).keras_api.metrics.1.count\n",
            "WARNING:tensorflow:Detecting that an object or model or tf.train.Checkpoint is being deleted with unrestored values. See the following logs for the specific values in question. To silence these warnings, use `status.expect_partial()`. See https://www.tensorflow.org/api_docs/python/tf/train/Checkpoint#restorefor details about the status object returned by the restore function.\n",
            "WARNING:tensorflow:Value in checkpoint could not be found in the restored object: (root).keras_api.metrics.0.total\n",
            "WARNING:tensorflow:Value in checkpoint could not be found in the restored object: (root).keras_api.metrics.0.count\n",
            "WARNING:tensorflow:Value in checkpoint could not be found in the restored object: (root).keras_api.metrics.1.total\n",
            "WARNING:tensorflow:Value in checkpoint could not be found in the restored object: (root).keras_api.metrics.1.count\n",
            "WARNING:tensorflow:Detecting that an object or model or tf.train.Checkpoint is being deleted with unrestored values. See the following logs for the specific values in question. To silence these warnings, use `status.expect_partial()`. See https://www.tensorflow.org/api_docs/python/tf/train/Checkpoint#restorefor details about the status object returned by the restore function.\n",
            "WARNING:tensorflow:Value in checkpoint could not be found in the restored object: (root).keras_api.metrics.0.total\n",
            "WARNING:tensorflow:Value in checkpoint could not be found in the restored object: (root).keras_api.metrics.0.count\n",
            "WARNING:tensorflow:Value in checkpoint could not be found in the restored object: (root).keras_api.metrics.1.total\n",
            "WARNING:tensorflow:Value in checkpoint could not be found in the restored object: (root).keras_api.metrics.1.count\n",
            "WARNING:tensorflow:Detecting that an object or model or tf.train.Checkpoint is being deleted with unrestored values. See the following logs for the specific values in question. To silence these warnings, use `status.expect_partial()`. See https://www.tensorflow.org/api_docs/python/tf/train/Checkpoint#restorefor details about the status object returned by the restore function.\n",
            "WARNING:tensorflow:Value in checkpoint could not be found in the restored object: (root).keras_api.metrics.0.total\n",
            "WARNING:tensorflow:Value in checkpoint could not be found in the restored object: (root).keras_api.metrics.0.count\n",
            "WARNING:tensorflow:Value in checkpoint could not be found in the restored object: (root).keras_api.metrics.1.total\n",
            "WARNING:tensorflow:Value in checkpoint could not be found in the restored object: (root).keras_api.metrics.1.count\n",
            "WARNING:tensorflow:Detecting that an object or model or tf.train.Checkpoint is being deleted with unrestored values. See the following logs for the specific values in question. To silence these warnings, use `status.expect_partial()`. See https://www.tensorflow.org/api_docs/python/tf/train/Checkpoint#restorefor details about the status object returned by the restore function.\n",
            "WARNING:tensorflow:Value in checkpoint could not be found in the restored object: (root).keras_api.metrics.0.total\n",
            "WARNING:tensorflow:Value in checkpoint could not be found in the restored object: (root).keras_api.metrics.0.count\n",
            "WARNING:tensorflow:Value in checkpoint could not be found in the restored object: (root).keras_api.metrics.1.total\n",
            "WARNING:tensorflow:Value in checkpoint could not be found in the restored object: (root).keras_api.metrics.1.count\n",
            "WARNING:tensorflow:Detecting that an object or model or tf.train.Checkpoint is being deleted with unrestored values. See the following logs for the specific values in question. To silence these warnings, use `status.expect_partial()`. See https://www.tensorflow.org/api_docs/python/tf/train/Checkpoint#restorefor details about the status object returned by the restore function.\n",
            "WARNING:tensorflow:Value in checkpoint could not be found in the restored object: (root).keras_api.metrics.0.total\n",
            "WARNING:tensorflow:Value in checkpoint could not be found in the restored object: (root).keras_api.metrics.0.count\n",
            "WARNING:tensorflow:Value in checkpoint could not be found in the restored object: (root).keras_api.metrics.1.total\n",
            "WARNING:tensorflow:Value in checkpoint could not be found in the restored object: (root).keras_api.metrics.1.count\n",
            "WARNING:tensorflow:Detecting that an object or model or tf.train.Checkpoint is being deleted with unrestored values. See the following logs for the specific values in question. To silence these warnings, use `status.expect_partial()`. See https://www.tensorflow.org/api_docs/python/tf/train/Checkpoint#restorefor details about the status object returned by the restore function.\n",
            "WARNING:tensorflow:Value in checkpoint could not be found in the restored object: (root).keras_api.metrics.0.total\n",
            "WARNING:tensorflow:Value in checkpoint could not be found in the restored object: (root).keras_api.metrics.0.count\n",
            "WARNING:tensorflow:Value in checkpoint could not be found in the restored object: (root).keras_api.metrics.1.total\n",
            "WARNING:tensorflow:Value in checkpoint could not be found in the restored object: (root).keras_api.metrics.1.count\n",
            "WARNING:tensorflow:Detecting that an object or model or tf.train.Checkpoint is being deleted with unrestored values. See the following logs for the specific values in question. To silence these warnings, use `status.expect_partial()`. See https://www.tensorflow.org/api_docs/python/tf/train/Checkpoint#restorefor details about the status object returned by the restore function.\n",
            "WARNING:tensorflow:Value in checkpoint could not be found in the restored object: (root).keras_api.metrics.0.total\n",
            "WARNING:tensorflow:Value in checkpoint could not be found in the restored object: (root).keras_api.metrics.0.count\n",
            "WARNING:tensorflow:Value in checkpoint could not be found in the restored object: (root).keras_api.metrics.1.total\n",
            "WARNING:tensorflow:Value in checkpoint could not be found in the restored object: (root).keras_api.metrics.1.count\n",
            "WARNING:tensorflow:Detecting that an object or model or tf.train.Checkpoint is being deleted with unrestored values. See the following logs for the specific values in question. To silence these warnings, use `status.expect_partial()`. See https://www.tensorflow.org/api_docs/python/tf/train/Checkpoint#restorefor details about the status object returned by the restore function.\n",
            "WARNING:tensorflow:Value in checkpoint could not be found in the restored object: (root).keras_api.metrics.0.total\n",
            "WARNING:tensorflow:Value in checkpoint could not be found in the restored object: (root).keras_api.metrics.0.count\n",
            "WARNING:tensorflow:Value in checkpoint could not be found in the restored object: (root).keras_api.metrics.1.total\n",
            "WARNING:tensorflow:Value in checkpoint could not be found in the restored object: (root).keras_api.metrics.1.count\n",
            "/usr/local/lib/python3.10/dist-packages/scikeras/wrappers.py:915: UserWarning: ``build_fn`` will be renamed to ``model`` in a future release, at which point use of ``build_fn`` will raise an Error instead.\n",
            "  X, y = self._initialize(X, y)\n"
          ]
        },
        {
          "output_type": "stream",
          "name": "stdout",
          "text": [
            "360/360 [==============================] - 1s 3ms/step - loss: 0.3413 - accuracy: 0.9525\n",
            "90/90 [==============================] - 0s 2ms/step\n"
          ]
        },
        {
          "output_type": "stream",
          "name": "stderr",
          "text": [
            "/usr/local/lib/python3.10/dist-packages/scikeras/wrappers.py:915: UserWarning: ``build_fn`` will be renamed to ``model`` in a future release, at which point use of ``build_fn`` will raise an Error instead.\n",
            "  X, y = self._initialize(X, y)\n"
          ]
        },
        {
          "output_type": "stream",
          "name": "stdout",
          "text": [
            "360/360 [==============================] - 1s 2ms/step - loss: 0.3171 - accuracy: 0.9523\n",
            "90/90 [==============================] - 0s 1ms/step\n",
            "Average Accuracy: 0.9608375158734959\n"
          ]
        }
      ],
      "source": [
        "def neural_network(X_train, X_test, y_train, y_test):\n",
        "\n",
        "    # Standardize the data\n",
        "    scaler = StandardScaler()\n",
        "    X_train = scaler.fit_transform(X_train)\n",
        "    X_test = scaler.transform(X_test)\n",
        "\n",
        "    # Build the neural network model\n",
        "    model = Sequential()\n",
        "    model.add(Dense(32, input_dim=X_train.shape[1], activation='relu'))  # Reduced the number of neurons\n",
        "    model.add(Dropout(0.5))\n",
        "    model.add(Dense(1, activation='sigmoid'))\n",
        "\n",
        "    # Compile the model\n",
        "    model.compile(optimizer='adam', loss='binary_crossentropy', metrics=['accuracy'])\n",
        "\n",
        "    # Define early stopping to prevent overfitting\n",
        "    early_stopping = EarlyStopping(monitor='val_loss', patience=3, restore_best_weights=True)\n",
        "\n",
        "    # Train the model with early stopping\n",
        "    model.fit(X_train, y_train, epochs=10, batch_size=340, validation_split=0.1, callbacks=[early_stopping])\n",
        "\n",
        "    # Make predictions on test data\n",
        "    y_pred_prob = model.predict(X_test)\n",
        "    y_pred = (y_pred_prob > 0.5).astype(int)\n",
        "\n",
        "    return KerasClassifier(build_fn=model), y_pred\n",
        "\n",
        "# Call the function to train base_model1 and obtain predictions and evaluation metrics\n",
        "base_model3, base_model3_preds = neural_network(X_train, X_test, y_train, y_test)\n",
        "\n",
        "# Evaluate the model\n",
        "print(\"Accuracy:\", accuracy_score(y_test, base_model3_preds))\n",
        "print(\"\\nConfusion Matrix:\\n\", confusion_matrix(y_test, base_model3_preds))\n",
        "print(\"\\nClassification Report:\\n\", classification_report(y_test, base_model3_preds))\n",
        "\n",
        "# Perform 5-fold cross-validation\n",
        "scores3 = cross_val_score(base_model3, X_train, y_train, cv=5, scoring='accuracy').mean()\n",
        "\n",
        "# Print average accuracy across all folds\n",
        "print(\"Average Accuracy:\", scores3)"
      ]
    },
    {
      "cell_type": "markdown",
      "source": [
        "## 2.4 Meta-Model"
      ],
      "metadata": {
        "id": "huRhCSDvNP5U"
      }
    },
    {
      "cell_type": "code",
      "source": [
        "load_model = VotingClassifier(\n",
        "    estimators=[\n",
        "        ('decision_tree', base_model1),\n",
        "        ('knn', base_model2),\n",
        "        ('neural_network', base_model3)],\n",
        "    voting='hard'\n",
        "    )\n",
        "\n",
        "# Fit model to the training data\n",
        "load_model.fit(X_train, y_train)\n",
        "\n",
        "# Make predictions on the test set\n",
        "load_model_preds = load_model.predict(X_test)\n",
        "\n",
        "# Evaluate the model\n",
        "print(\"Accuracy of Meta-Model:\", accuracy_score(y_test, load_model_preds))\n",
        "print(\"\\nConfusion Matrix:\\n\", confusion_matrix(y_test, load_model_preds))\n",
        "print(\"\\nClassification Report:\\n\", classification_report(y_test, load_model_preds))\n",
        "\n",
        "# Perform 5-fold cross-validation\n",
        "scores_meta = cross_val_score(load_model, X_train, y_train, cv=5, scoring='accuracy').mean()\n",
        "\n",
        "# Print average accuracy across all folds\n",
        "print(\"Average Accuracy:\", scores_meta)"
      ],
      "metadata": {
        "id": "tvfEdB67Nb5M",
        "colab": {
          "base_uri": "https://localhost:8080/"
        },
        "outputId": "c6298dfe-e263-4dc4-f530-557d1ec05331"
      },
      "execution_count": null,
      "outputs": [
        {
          "output_type": "stream",
          "name": "stderr",
          "text": [
            "/usr/local/lib/python3.10/dist-packages/scikeras/wrappers.py:915: UserWarning: ``build_fn`` will be renamed to ``model`` in a future release, at which point use of ``build_fn`` will raise an Error instead.\n",
            "  X, y = self._initialize(X, y)\n"
          ]
        },
        {
          "output_type": "stream",
          "name": "stdout",
          "text": [
            "450/450 [==============================] - 2s 3ms/step - loss: 0.3179 - accuracy: 0.9556\n",
            "113/113 [==============================] - 0s 1ms/step\n",
            "Accuracy of Meta-Model: 0.9579855314412911\n",
            "\n",
            "Confusion Matrix:\n",
            " [[3442    7]\n",
            " [ 144    1]]\n",
            "\n",
            "Classification Report:\n",
            "               precision    recall  f1-score   support\n",
            "\n",
            "         0.0       0.96      1.00      0.98      3449\n",
            "         1.0       0.12      0.01      0.01       145\n",
            "\n",
            "    accuracy                           0.96      3594\n",
            "   macro avg       0.54      0.50      0.50      3594\n",
            "weighted avg       0.93      0.96      0.94      3594\n",
            "\n"
          ]
        },
        {
          "output_type": "stream",
          "name": "stderr",
          "text": [
            "/usr/local/lib/python3.10/dist-packages/scikeras/wrappers.py:915: UserWarning: ``build_fn`` will be renamed to ``model`` in a future release, at which point use of ``build_fn`` will raise an Error instead.\n",
            "  X, y = self._initialize(X, y)\n"
          ]
        },
        {
          "output_type": "stream",
          "name": "stdout",
          "text": [
            "360/360 [==============================] - 1s 2ms/step - loss: 0.3932 - accuracy: 0.9526\n",
            "90/90 [==============================] - 0s 1ms/step\n"
          ]
        },
        {
          "output_type": "stream",
          "name": "stderr",
          "text": [
            "/usr/local/lib/python3.10/dist-packages/scikeras/wrappers.py:915: UserWarning: ``build_fn`` will be renamed to ``model`` in a future release, at which point use of ``build_fn`` will raise an Error instead.\n",
            "  X, y = self._initialize(X, y)\n"
          ]
        },
        {
          "output_type": "stream",
          "name": "stdout",
          "text": [
            "360/360 [==============================] - 1s 2ms/step - loss: 0.3498 - accuracy: 0.9530\n",
            "90/90 [==============================] - 0s 1ms/step\n"
          ]
        },
        {
          "output_type": "stream",
          "name": "stderr",
          "text": [
            "/usr/local/lib/python3.10/dist-packages/scikeras/wrappers.py:915: UserWarning: ``build_fn`` will be renamed to ``model`` in a future release, at which point use of ``build_fn`` will raise an Error instead.\n",
            "  X, y = self._initialize(X, y)\n"
          ]
        },
        {
          "output_type": "stream",
          "name": "stdout",
          "text": [
            "360/360 [==============================] - 1s 2ms/step - loss: 0.3281 - accuracy: 0.9526\n",
            "90/90 [==============================] - 0s 1ms/step\n"
          ]
        },
        {
          "output_type": "stream",
          "name": "stderr",
          "text": [
            "/usr/local/lib/python3.10/dist-packages/scikeras/wrappers.py:915: UserWarning: ``build_fn`` will be renamed to ``model`` in a future release, at which point use of ``build_fn`` will raise an Error instead.\n",
            "  X, y = self._initialize(X, y)\n"
          ]
        },
        {
          "output_type": "stream",
          "name": "stdout",
          "text": [
            "360/360 [==============================] - 1s 2ms/step - loss: 0.3384 - accuracy: 0.9534\n",
            "90/90 [==============================] - 0s 1ms/step\n"
          ]
        },
        {
          "output_type": "stream",
          "name": "stderr",
          "text": [
            "WARNING:tensorflow:Detecting that an object or model or tf.train.Checkpoint is being deleted with unrestored values. See the following logs for the specific values in question. To silence these warnings, use `status.expect_partial()`. See https://www.tensorflow.org/api_docs/python/tf/train/Checkpoint#restorefor details about the status object returned by the restore function.\n",
            "WARNING:tensorflow:Value in checkpoint could not be found in the restored object: (root).keras_api.metrics.0.total\n",
            "WARNING:tensorflow:Value in checkpoint could not be found in the restored object: (root).keras_api.metrics.0.count\n",
            "WARNING:tensorflow:Value in checkpoint could not be found in the restored object: (root).keras_api.metrics.1.total\n",
            "WARNING:tensorflow:Value in checkpoint could not be found in the restored object: (root).keras_api.metrics.1.count\n",
            "WARNING:tensorflow:Detecting that an object or model or tf.train.Checkpoint is being deleted with unrestored values. See the following logs for the specific values in question. To silence these warnings, use `status.expect_partial()`. See https://www.tensorflow.org/api_docs/python/tf/train/Checkpoint#restorefor details about the status object returned by the restore function.\n",
            "WARNING:tensorflow:Value in checkpoint could not be found in the restored object: (root).keras_api.metrics.0.total\n",
            "WARNING:tensorflow:Value in checkpoint could not be found in the restored object: (root).keras_api.metrics.0.count\n",
            "WARNING:tensorflow:Value in checkpoint could not be found in the restored object: (root).keras_api.metrics.1.total\n",
            "WARNING:tensorflow:Value in checkpoint could not be found in the restored object: (root).keras_api.metrics.1.count\n",
            "WARNING:tensorflow:Detecting that an object or model or tf.train.Checkpoint is being deleted with unrestored values. See the following logs for the specific values in question. To silence these warnings, use `status.expect_partial()`. See https://www.tensorflow.org/api_docs/python/tf/train/Checkpoint#restorefor details about the status object returned by the restore function.\n",
            "WARNING:tensorflow:Value in checkpoint could not be found in the restored object: (root).keras_api.metrics.0.total\n",
            "WARNING:tensorflow:Value in checkpoint could not be found in the restored object: (root).keras_api.metrics.0.count\n",
            "WARNING:tensorflow:Value in checkpoint could not be found in the restored object: (root).keras_api.metrics.1.total\n",
            "WARNING:tensorflow:Value in checkpoint could not be found in the restored object: (root).keras_api.metrics.1.count\n",
            "WARNING:tensorflow:Detecting that an object or model or tf.train.Checkpoint is being deleted with unrestored values. See the following logs for the specific values in question. To silence these warnings, use `status.expect_partial()`. See https://www.tensorflow.org/api_docs/python/tf/train/Checkpoint#restorefor details about the status object returned by the restore function.\n",
            "WARNING:tensorflow:Value in checkpoint could not be found in the restored object: (root).keras_api.metrics.0.total\n",
            "WARNING:tensorflow:Value in checkpoint could not be found in the restored object: (root).keras_api.metrics.0.count\n",
            "WARNING:tensorflow:Value in checkpoint could not be found in the restored object: (root).keras_api.metrics.1.total\n",
            "WARNING:tensorflow:Value in checkpoint could not be found in the restored object: (root).keras_api.metrics.1.count\n",
            "WARNING:tensorflow:Detecting that an object or model or tf.train.Checkpoint is being deleted with unrestored values. See the following logs for the specific values in question. To silence these warnings, use `status.expect_partial()`. See https://www.tensorflow.org/api_docs/python/tf/train/Checkpoint#restorefor details about the status object returned by the restore function.\n",
            "WARNING:tensorflow:Value in checkpoint could not be found in the restored object: (root).keras_api.metrics.0.total\n",
            "WARNING:tensorflow:Value in checkpoint could not be found in the restored object: (root).keras_api.metrics.0.count\n",
            "WARNING:tensorflow:Value in checkpoint could not be found in the restored object: (root).keras_api.metrics.1.total\n",
            "WARNING:tensorflow:Value in checkpoint could not be found in the restored object: (root).keras_api.metrics.1.count\n",
            "WARNING:tensorflow:Detecting that an object or model or tf.train.Checkpoint is being deleted with unrestored values. See the following logs for the specific values in question. To silence these warnings, use `status.expect_partial()`. See https://www.tensorflow.org/api_docs/python/tf/train/Checkpoint#restorefor details about the status object returned by the restore function.\n",
            "WARNING:tensorflow:Value in checkpoint could not be found in the restored object: (root).keras_api.metrics.0.total\n",
            "WARNING:tensorflow:Value in checkpoint could not be found in the restored object: (root).keras_api.metrics.0.count\n",
            "WARNING:tensorflow:Value in checkpoint could not be found in the restored object: (root).keras_api.metrics.1.total\n",
            "WARNING:tensorflow:Value in checkpoint could not be found in the restored object: (root).keras_api.metrics.1.count\n",
            "WARNING:tensorflow:Detecting that an object or model or tf.train.Checkpoint is being deleted with unrestored values. See the following logs for the specific values in question. To silence these warnings, use `status.expect_partial()`. See https://www.tensorflow.org/api_docs/python/tf/train/Checkpoint#restorefor details about the status object returned by the restore function.\n",
            "WARNING:tensorflow:Value in checkpoint could not be found in the restored object: (root).keras_api.metrics.0.total\n",
            "WARNING:tensorflow:Value in checkpoint could not be found in the restored object: (root).keras_api.metrics.0.count\n",
            "WARNING:tensorflow:Value in checkpoint could not be found in the restored object: (root).keras_api.metrics.1.total\n",
            "WARNING:tensorflow:Value in checkpoint could not be found in the restored object: (root).keras_api.metrics.1.count\n",
            "WARNING:tensorflow:Detecting that an object or model or tf.train.Checkpoint is being deleted with unrestored values. See the following logs for the specific values in question. To silence these warnings, use `status.expect_partial()`. See https://www.tensorflow.org/api_docs/python/tf/train/Checkpoint#restorefor details about the status object returned by the restore function.\n",
            "WARNING:tensorflow:Value in checkpoint could not be found in the restored object: (root).keras_api.metrics.0.total\n",
            "WARNING:tensorflow:Value in checkpoint could not be found in the restored object: (root).keras_api.metrics.0.count\n",
            "WARNING:tensorflow:Value in checkpoint could not be found in the restored object: (root).keras_api.metrics.1.total\n",
            "WARNING:tensorflow:Value in checkpoint could not be found in the restored object: (root).keras_api.metrics.1.count\n",
            "WARNING:tensorflow:Detecting that an object or model or tf.train.Checkpoint is being deleted with unrestored values. See the following logs for the specific values in question. To silence these warnings, use `status.expect_partial()`. See https://www.tensorflow.org/api_docs/python/tf/train/Checkpoint#restorefor details about the status object returned by the restore function.\n",
            "WARNING:tensorflow:Value in checkpoint could not be found in the restored object: (root).keras_api.metrics.0.total\n",
            "WARNING:tensorflow:Value in checkpoint could not be found in the restored object: (root).keras_api.metrics.0.count\n",
            "WARNING:tensorflow:Value in checkpoint could not be found in the restored object: (root).keras_api.metrics.1.total\n",
            "WARNING:tensorflow:Value in checkpoint could not be found in the restored object: (root).keras_api.metrics.1.count\n",
            "WARNING:tensorflow:Detecting that an object or model or tf.train.Checkpoint is being deleted with unrestored values. See the following logs for the specific values in question. To silence these warnings, use `status.expect_partial()`. See https://www.tensorflow.org/api_docs/python/tf/train/Checkpoint#restorefor details about the status object returned by the restore function.\n",
            "WARNING:tensorflow:Value in checkpoint could not be found in the restored object: (root).keras_api.metrics.0.total\n",
            "WARNING:tensorflow:Value in checkpoint could not be found in the restored object: (root).keras_api.metrics.0.count\n",
            "WARNING:tensorflow:Value in checkpoint could not be found in the restored object: (root).keras_api.metrics.1.total\n",
            "WARNING:tensorflow:Value in checkpoint could not be found in the restored object: (root).keras_api.metrics.1.count\n",
            "/usr/local/lib/python3.10/dist-packages/scikeras/wrappers.py:915: UserWarning: ``build_fn`` will be renamed to ``model`` in a future release, at which point use of ``build_fn`` will raise an Error instead.\n",
            "  X, y = self._initialize(X, y)\n"
          ]
        },
        {
          "output_type": "stream",
          "name": "stdout",
          "text": [
            "360/360 [==============================] - 1s 2ms/step - loss: 0.3094 - accuracy: 0.9531\n",
            "90/90 [==============================] - 0s 2ms/step\n",
            "Average Accuracy: 0.9596549313660276\n"
          ]
        }
      ]
    },
    {
      "cell_type": "code",
      "source": [],
      "metadata": {
        "id": "FZVmORNB9hKc"
      },
      "execution_count": null,
      "outputs": []
    },
    {
      "cell_type": "markdown",
      "source": [
        "# 3. Comparison and Evaluation of Results"
      ],
      "metadata": {
        "id": "74ZLk3BBxnll"
      }
    },
    {
      "cell_type": "markdown",
      "source": [
        "## 3.1 Comparing results from each model\n"
      ],
      "metadata": {
        "id": "j4rJV85_xven"
      }
    },
    {
      "cell_type": "code",
      "source": [
        "models = ['Decision Tree','KNN','Neural Network','Meta-Model']\n",
        "average_accuracy_scores = [scores1, scores2, scores3, scores_meta]\n",
        "plt.bar(models, average_accuracy_scores, color=['blue', 'green', 'red', 'purple'])\n",
        "plt.ylabel('Accuracy')\n",
        "plt.title('Model Comparison')\n",
        "plt.ylim(0.92, 0.97)  # y-axis set from 0.92 to 0.97 for easier comparison\n",
        "plt.show()"
      ],
      "metadata": {
        "colab": {
          "base_uri": "https://localhost:8080/",
          "height": 452
        },
        "id": "eJbzPOdFxjjA",
        "outputId": "fd88de85-c576-4e45-d6c9-f5f0861aa985"
      },
      "execution_count": null,
      "outputs": [
        {
          "output_type": "display_data",
          "data": {
            "text/plain": [
              "<Figure size 640x480 with 1 Axes>"
            ],
            "image/png": "[encoded data removed]"
          },
          "metadata": {}
        }
      ]
    },
    {
      "cell_type": "markdown",
      "source": [
        "## 3.2 Conclusion\n",
        "In the pursuit of forecasting customer conversion rates and streamlining the application process, several pivotal touchpoints emerge, each bearing substantial influence on the probability of a customer purchasing life or health insurance products within the next three months. The customer's status unveils critical insights into their engagement level, with active clients showcasing a propensity for higher conversion probabilities. Similarly, the date of the client's first interaction proves important too, with a policyholders that have been together with Singlife for longer wielding a significant impact on positive conversion prediction rates. Metrics tied to longer and more active policy history, including the recency of purchases and the total number of in-force policies, also suggest better probabilities of future insurance product purchases. Moreover, demographic indicators, such as occupation and residency status, present promising opportunities for personalized communication, while identifying clients as dependents in at least one policy opens more avenues for tailored engagement strategies. The consent flags for various communication channels underscore the pivotal role of personalized communication in influencing conversion rates, such as more succinct updates for customers who prefer SMS updates, and more detailed ones for those who prefer to be informed via mail or e-mail. In essence, these touchpoints not only provide a strategic foundation for dissecting the dataset and unveiling patterns, but also present opportunities for tailoring approaches to enhance customer satisfaction and elevate the probability of successful conversions, aligning with Singlife's market positioning goals."
      ],
      "metadata": {
        "id": "kkJVjViBCdwo"
      }
    }
  ],
  "metadata": {
    "colab": {
      "provenance": []
    },
    "kernelspec": {
      "display_name": "Python 3",
      "name": "python3"
    },
    "language_info": {
      "name": "python"
    }
  },
  "nbformat": 4,
  "nbformat_minor": 0
}